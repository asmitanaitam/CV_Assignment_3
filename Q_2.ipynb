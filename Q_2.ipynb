{
 "cells": [
  {
   "cell_type": "markdown",
   "metadata": {},
   "source": [
    "### Question_2"
   ]
  },
  {
   "cell_type": "markdown",
   "metadata": {},
   "source": [
    "2. Solve the following by hand (on paper or typed: Do not just copy it from literature)\n",
    "(a) Derive the motion tracking equation from fundamental principles. Select any 2 consecutive\n",
    "frames from the set from problem 1 and compute the motion function estimates.\n"
   ]
  },
  {
   "cell_type": "markdown",
   "metadata": {},
   "source": [
    "Derived the motion tracking equation from fundamental principles on paper. \n",
    "\n",
    "Following code performs: Select any 2 consecutive frames from the set from problem 1 and compute the motion function estimates."
   ]
  },
  {
   "cell_type": "code",
   "execution_count": 2,
   "metadata": {},
   "outputs": [
    {
     "name": "stdout",
     "output_type": "stream",
     "text": [
      "Estimated Motion Vectors:\n",
      "u (horizontal motion): -0.004595859126131836\n",
      "v (vertical motion): 0.004474538921873546\n"
     ]
    }
   ],
   "source": [
    "import numpy as np\n",
    "import cv2\n",
    "\n",
    "cap = cv2.VideoCapture('IMG_2046.MOV')\n",
    "\n",
    "# Function to get a specific frame\n",
    "def get_frame_at_second(sec):\n",
    "    cap.set(cv2.CAP_PROP_POS_MSEC, sec*1000)\n",
    "    ret, frame = cap.read()\n",
    "    if ret:\n",
    "        return cv2.cvtColor(frame, cv2.COLOR_BGR2GRAY)\n",
    "    return None\n",
    "\n",
    "# Extract two consecutive frames\n",
    "frame1 = get_frame_at_second(1)  # frame at 1 second\n",
    "frame2 = get_frame_at_second(1.033)  # consecutive frame\n",
    "\n",
    "# Compute spatial gradients\n",
    "grad_x = cv2.Sobel(frame1, cv2.CV_64F, 1, 0, ksize=5)\n",
    "grad_y = cv2.Sobel(frame1, cv2.CV_64F, 0, 1, ksize=5)\n",
    "\n",
    "# Compute temporal gradient\n",
    "grad_t = np.float32(frame2) - np.float32(frame1)\n",
    "\n",
    "# Prepare the system of equations\n",
    "A = np.column_stack((grad_x.ravel(), grad_y.ravel()))\n",
    "b = -grad_t.ravel()\n",
    "\n",
    "# Solve for motion vectors using least squares\n",
    "u_v, _, _, _ = np.linalg.lstsq(A, b, rcond=None)\n",
    "u, v = u_v  \n",
    "\n",
    "print(\"Estimated Motion Vectors:\")\n",
    "print(\"u (horizontal motion):\", u)\n",
    "print(\"v (vertical motion):\", v)\n"
   ]
  },
  {
   "cell_type": "code",
   "execution_count": null,
   "metadata": {},
   "outputs": [],
   "source": []
  }
 ],
 "metadata": {
  "kernelspec": {
   "display_name": "Python 3",
   "language": "python",
   "name": "python3"
  },
  "language_info": {
   "codemirror_mode": {
    "name": "ipython",
    "version": 3
   },
   "file_extension": ".py",
   "mimetype": "text/x-python",
   "name": "python",
   "nbconvert_exporter": "python",
   "pygments_lexer": "ipython3",
   "version": "3.8.5"
  }
 },
 "nbformat": 4,
 "nbformat_minor": 4
}
